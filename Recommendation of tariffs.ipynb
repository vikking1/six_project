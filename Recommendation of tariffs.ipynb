{
 "cells": [
  {
   "cell_type": "markdown",
   "metadata": {},
   "source": [
    "# Рекомендация тарифов"
   ]
  },
  {
   "cell_type": "markdown",
   "metadata": {},
   "source": [
    "В вашем распоряжении данные о поведении клиентов, которые уже перешли на эти тарифы (из проекта курса «Статистический анализ данных»). Нужно построить модель для задачи классификации, которая выберет подходящий тариф. Предобработка данных не понадобится — вы её уже сделали.\n",
    "\n",
    "Постройте модель с максимально большим значением *accuracy*. Чтобы сдать проект успешно, нужно довести долю правильных ответов по крайней мере до 0.75. Проверьте *accuracy* на тестовой выборке самостоятельно."
   ]
  },
  {
   "cell_type": "markdown",
   "metadata": {},
   "source": [
    "## Откройте и изучите файл"
   ]
  },
  {
   "cell_type": "code",
   "execution_count": 1,
   "metadata": {},
   "outputs": [],
   "source": [
    "#Подключение библеотеки \n",
    "import pandas as pd\n",
    "import numpy as np\n",
    "import os\n",
    "from sklearn.model_selection import train_test_split\n",
    "from sklearn.metrics import accuracy_score\n",
    "from sklearn.tree import DecisionTreeClassifier\n",
    "from sklearn import tree\n",
    "from sklearn.metrics import classification_report\n",
    "from sklearn.ensemble import RandomForestClassifier\n",
    "from sklearn.linear_model import LogisticRegression\n",
    "from sklearn.dummy import DummyClassifier\n",
    "import matplotlib.pyplot as plt"
   ]
  },
  {
   "cell_type": "code",
   "execution_count": 2,
   "metadata": {},
   "outputs": [
    {
     "name": "stdout",
     "output_type": "stream",
     "text": [
      "<class 'pandas.core.frame.DataFrame'>\n",
      "RangeIndex: 3214 entries, 0 to 3213\n",
      "Data columns (total 5 columns):\n",
      " #   Column    Non-Null Count  Dtype  \n",
      "---  ------    --------------  -----  \n",
      " 0   calls     3214 non-null   float64\n",
      " 1   minutes   3214 non-null   float64\n",
      " 2   messages  3214 non-null   float64\n",
      " 3   mb_used   3214 non-null   float64\n",
      " 4   is_ultra  3214 non-null   int64  \n",
      "dtypes: float64(4), int64(1)\n",
      "memory usage: 125.7 KB\n"
     ]
    },
    {
     "data": {
      "text/plain": [
       "None"
      ]
     },
     "metadata": {},
     "output_type": "display_data"
    },
    {
     "data": {
      "text/html": [
       "<div>\n",
       "<style scoped>\n",
       "    .dataframe tbody tr th:only-of-type {\n",
       "        vertical-align: middle;\n",
       "    }\n",
       "\n",
       "    .dataframe tbody tr th {\n",
       "        vertical-align: top;\n",
       "    }\n",
       "\n",
       "    .dataframe thead th {\n",
       "        text-align: right;\n",
       "    }\n",
       "</style>\n",
       "<table border=\"1\" class=\"dataframe\">\n",
       "  <thead>\n",
       "    <tr style=\"text-align: right;\">\n",
       "      <th></th>\n",
       "      <th>calls</th>\n",
       "      <th>minutes</th>\n",
       "      <th>messages</th>\n",
       "      <th>mb_used</th>\n",
       "      <th>is_ultra</th>\n",
       "    </tr>\n",
       "  </thead>\n",
       "  <tbody>\n",
       "    <tr>\n",
       "      <th>0</th>\n",
       "      <td>40.0</td>\n",
       "      <td>311.90</td>\n",
       "      <td>83.0</td>\n",
       "      <td>19915.42</td>\n",
       "      <td>0</td>\n",
       "    </tr>\n",
       "    <tr>\n",
       "      <th>1</th>\n",
       "      <td>85.0</td>\n",
       "      <td>516.75</td>\n",
       "      <td>56.0</td>\n",
       "      <td>22696.96</td>\n",
       "      <td>0</td>\n",
       "    </tr>\n",
       "    <tr>\n",
       "      <th>2</th>\n",
       "      <td>77.0</td>\n",
       "      <td>467.66</td>\n",
       "      <td>86.0</td>\n",
       "      <td>21060.45</td>\n",
       "      <td>0</td>\n",
       "    </tr>\n",
       "    <tr>\n",
       "      <th>3</th>\n",
       "      <td>106.0</td>\n",
       "      <td>745.53</td>\n",
       "      <td>81.0</td>\n",
       "      <td>8437.39</td>\n",
       "      <td>1</td>\n",
       "    </tr>\n",
       "    <tr>\n",
       "      <th>4</th>\n",
       "      <td>66.0</td>\n",
       "      <td>418.74</td>\n",
       "      <td>1.0</td>\n",
       "      <td>14502.75</td>\n",
       "      <td>0</td>\n",
       "    </tr>\n",
       "  </tbody>\n",
       "</table>\n",
       "</div>"
      ],
      "text/plain": [
       "   calls  minutes  messages   mb_used  is_ultra\n",
       "0   40.0   311.90      83.0  19915.42         0\n",
       "1   85.0   516.75      56.0  22696.96         0\n",
       "2   77.0   467.66      86.0  21060.45         0\n",
       "3  106.0   745.53      81.0   8437.39         1\n",
       "4   66.0   418.74       1.0  14502.75         0"
      ]
     },
     "metadata": {},
     "output_type": "display_data"
    }
   ],
   "source": [
    "# Считываються файлы\n",
    "\n",
    "pth1 = '/datasets/users_behavior.csv'\n",
    "pth2 = 'users_behavior.csv'\n",
    "\n",
    "if os.path.exists(pth1):\n",
    "    df = pd.read_csv(pth1)\n",
    "elif os.path.exists(pth2):\n",
    "    df = pd.read_csv(pth2)\n",
    "else:\n",
    "    print('Incorrect file path')\n",
    "    \n",
    "# Информация даттафрейма и первые 5 строки \n",
    "display(df.info())\n",
    "display(df.head()) "
   ]
  },
  {
   "cell_type": "markdown",
   "metadata": {},
   "source": [
    "Как видно из Info :\n",
    "- Колличество звонков имеют значение Float можно превратить в Int\n",
    "- минуты так же можно превратить в int \n",
    "- Колличество смс имеют значение Float можно превратить в Int\n",
    "- Колличество мегабайт так же можно из Float в Int так как байты не так интересны\n"
   ]
  },
  {
   "cell_type": "code",
   "execution_count": 3,
   "metadata": {},
   "outputs": [
    {
     "data": {
      "text/html": [
       "<div>\n",
       "<style scoped>\n",
       "    .dataframe tbody tr th:only-of-type {\n",
       "        vertical-align: middle;\n",
       "    }\n",
       "\n",
       "    .dataframe tbody tr th {\n",
       "        vertical-align: top;\n",
       "    }\n",
       "\n",
       "    .dataframe thead th {\n",
       "        text-align: right;\n",
       "    }\n",
       "</style>\n",
       "<table border=\"1\" class=\"dataframe\">\n",
       "  <thead>\n",
       "    <tr style=\"text-align: right;\">\n",
       "      <th></th>\n",
       "      <th>calls</th>\n",
       "      <th>minutes</th>\n",
       "      <th>messages</th>\n",
       "      <th>mb_used</th>\n",
       "      <th>is_ultra</th>\n",
       "    </tr>\n",
       "  </thead>\n",
       "  <tbody>\n",
       "    <tr>\n",
       "      <th>0</th>\n",
       "      <td>40</td>\n",
       "      <td>311</td>\n",
       "      <td>83</td>\n",
       "      <td>19915</td>\n",
       "      <td>0</td>\n",
       "    </tr>\n",
       "    <tr>\n",
       "      <th>1</th>\n",
       "      <td>85</td>\n",
       "      <td>516</td>\n",
       "      <td>56</td>\n",
       "      <td>22696</td>\n",
       "      <td>0</td>\n",
       "    </tr>\n",
       "    <tr>\n",
       "      <th>2</th>\n",
       "      <td>77</td>\n",
       "      <td>467</td>\n",
       "      <td>86</td>\n",
       "      <td>21060</td>\n",
       "      <td>0</td>\n",
       "    </tr>\n",
       "    <tr>\n",
       "      <th>3</th>\n",
       "      <td>106</td>\n",
       "      <td>745</td>\n",
       "      <td>81</td>\n",
       "      <td>8437</td>\n",
       "      <td>1</td>\n",
       "    </tr>\n",
       "    <tr>\n",
       "      <th>4</th>\n",
       "      <td>66</td>\n",
       "      <td>418</td>\n",
       "      <td>1</td>\n",
       "      <td>14502</td>\n",
       "      <td>0</td>\n",
       "    </tr>\n",
       "  </tbody>\n",
       "</table>\n",
       "</div>"
      ],
      "text/plain": [
       "   calls  minutes  messages  mb_used  is_ultra\n",
       "0     40      311        83    19915         0\n",
       "1     85      516        56    22696         0\n",
       "2     77      467        86    21060         0\n",
       "3    106      745        81     8437         1\n",
       "4     66      418         1    14502         0"
      ]
     },
     "metadata": {},
     "output_type": "display_data"
    },
    {
     "data": {
      "text/html": [
       "<div>\n",
       "<style scoped>\n",
       "    .dataframe tbody tr th:only-of-type {\n",
       "        vertical-align: middle;\n",
       "    }\n",
       "\n",
       "    .dataframe tbody tr th {\n",
       "        vertical-align: top;\n",
       "    }\n",
       "\n",
       "    .dataframe thead th {\n",
       "        text-align: right;\n",
       "    }\n",
       "</style>\n",
       "<table border=\"1\" class=\"dataframe\">\n",
       "  <thead>\n",
       "    <tr style=\"text-align: right;\">\n",
       "      <th></th>\n",
       "      <th>calls</th>\n",
       "      <th>minutes</th>\n",
       "      <th>messages</th>\n",
       "      <th>mb_used</th>\n",
       "    </tr>\n",
       "  </thead>\n",
       "  <tbody>\n",
       "    <tr>\n",
       "      <th>count</th>\n",
       "      <td>3214.000000</td>\n",
       "      <td>3214.000000</td>\n",
       "      <td>3214.000000</td>\n",
       "      <td>3214.000000</td>\n",
       "    </tr>\n",
       "    <tr>\n",
       "      <th>mean</th>\n",
       "      <td>63.038892</td>\n",
       "      <td>437.717797</td>\n",
       "      <td>38.281269</td>\n",
       "      <td>17207.186683</td>\n",
       "    </tr>\n",
       "    <tr>\n",
       "      <th>std</th>\n",
       "      <td>33.236368</td>\n",
       "      <td>234.559661</td>\n",
       "      <td>36.148326</td>\n",
       "      <td>7570.972211</td>\n",
       "    </tr>\n",
       "    <tr>\n",
       "      <th>min</th>\n",
       "      <td>0.000000</td>\n",
       "      <td>0.000000</td>\n",
       "      <td>0.000000</td>\n",
       "      <td>0.000000</td>\n",
       "    </tr>\n",
       "    <tr>\n",
       "      <th>25%</th>\n",
       "      <td>40.000000</td>\n",
       "      <td>274.000000</td>\n",
       "      <td>9.000000</td>\n",
       "      <td>12491.250000</td>\n",
       "    </tr>\n",
       "    <tr>\n",
       "      <th>50%</th>\n",
       "      <td>62.000000</td>\n",
       "      <td>430.000000</td>\n",
       "      <td>30.000000</td>\n",
       "      <td>16943.000000</td>\n",
       "    </tr>\n",
       "    <tr>\n",
       "      <th>75%</th>\n",
       "      <td>82.000000</td>\n",
       "      <td>571.750000</td>\n",
       "      <td>57.000000</td>\n",
       "      <td>21424.000000</td>\n",
       "    </tr>\n",
       "    <tr>\n",
       "      <th>max</th>\n",
       "      <td>244.000000</td>\n",
       "      <td>1632.000000</td>\n",
       "      <td>224.000000</td>\n",
       "      <td>49745.000000</td>\n",
       "    </tr>\n",
       "  </tbody>\n",
       "</table>\n",
       "</div>"
      ],
      "text/plain": [
       "             calls      minutes     messages       mb_used\n",
       "count  3214.000000  3214.000000  3214.000000   3214.000000\n",
       "mean     63.038892   437.717797    38.281269  17207.186683\n",
       "std      33.236368   234.559661    36.148326   7570.972211\n",
       "min       0.000000     0.000000     0.000000      0.000000\n",
       "25%      40.000000   274.000000     9.000000  12491.250000\n",
       "50%      62.000000   430.000000    30.000000  16943.000000\n",
       "75%      82.000000   571.750000    57.000000  21424.000000\n",
       "max     244.000000  1632.000000   224.000000  49745.000000"
      ]
     },
     "execution_count": 3,
     "metadata": {},
     "output_type": "execute_result"
    }
   ],
   "source": [
    "df = df.astype('int') # Преобразование в целочисленное значения всех данных\n",
    "display(df.head()) # проверка\n",
    "df.drop('is_ultra',axis=1).describe()"
   ]
  },
  {
   "cell_type": "code",
   "execution_count": 4,
   "metadata": {},
   "outputs": [
    {
     "data": {
      "text/html": [
       "<div>\n",
       "<style scoped>\n",
       "    .dataframe tbody tr th:only-of-type {\n",
       "        vertical-align: middle;\n",
       "    }\n",
       "\n",
       "    .dataframe tbody tr th {\n",
       "        vertical-align: top;\n",
       "    }\n",
       "\n",
       "    .dataframe thead th {\n",
       "        text-align: right;\n",
       "    }\n",
       "</style>\n",
       "<table border=\"1\" class=\"dataframe\">\n",
       "  <thead>\n",
       "    <tr style=\"text-align: right;\">\n",
       "      <th></th>\n",
       "      <th>calls</th>\n",
       "      <th>minutes</th>\n",
       "      <th>messages</th>\n",
       "      <th>mb_used</th>\n",
       "      <th>is_ultra</th>\n",
       "    </tr>\n",
       "  </thead>\n",
       "  <tbody>\n",
       "    <tr>\n",
       "      <th>54</th>\n",
       "      <td>0</td>\n",
       "      <td>0</td>\n",
       "      <td>33</td>\n",
       "      <td>14010</td>\n",
       "      <td>1</td>\n",
       "    </tr>\n",
       "    <tr>\n",
       "      <th>247</th>\n",
       "      <td>0</td>\n",
       "      <td>0</td>\n",
       "      <td>35</td>\n",
       "      <td>16444</td>\n",
       "      <td>1</td>\n",
       "    </tr>\n",
       "    <tr>\n",
       "      <th>264</th>\n",
       "      <td>0</td>\n",
       "      <td>0</td>\n",
       "      <td>21</td>\n",
       "      <td>19559</td>\n",
       "      <td>0</td>\n",
       "    </tr>\n",
       "    <tr>\n",
       "      <th>351</th>\n",
       "      <td>0</td>\n",
       "      <td>0</td>\n",
       "      <td>8</td>\n",
       "      <td>35525</td>\n",
       "      <td>1</td>\n",
       "    </tr>\n",
       "    <tr>\n",
       "      <th>390</th>\n",
       "      <td>0</td>\n",
       "      <td>0</td>\n",
       "      <td>25</td>\n",
       "      <td>19088</td>\n",
       "      <td>1</td>\n",
       "    </tr>\n",
       "    <tr>\n",
       "      <th>484</th>\n",
       "      <td>0</td>\n",
       "      <td>0</td>\n",
       "      <td>191</td>\n",
       "      <td>32448</td>\n",
       "      <td>1</td>\n",
       "    </tr>\n",
       "    <tr>\n",
       "      <th>551</th>\n",
       "      <td>0</td>\n",
       "      <td>0</td>\n",
       "      <td>24</td>\n",
       "      <td>18701</td>\n",
       "      <td>1</td>\n",
       "    </tr>\n",
       "    <tr>\n",
       "      <th>647</th>\n",
       "      <td>0</td>\n",
       "      <td>0</td>\n",
       "      <td>30</td>\n",
       "      <td>10236</td>\n",
       "      <td>1</td>\n",
       "    </tr>\n",
       "    <tr>\n",
       "      <th>769</th>\n",
       "      <td>0</td>\n",
       "      <td>0</td>\n",
       "      <td>32</td>\n",
       "      <td>17206</td>\n",
       "      <td>0</td>\n",
       "    </tr>\n",
       "    <tr>\n",
       "      <th>884</th>\n",
       "      <td>0</td>\n",
       "      <td>0</td>\n",
       "      <td>180</td>\n",
       "      <td>32045</td>\n",
       "      <td>1</td>\n",
       "    </tr>\n",
       "    <tr>\n",
       "      <th>951</th>\n",
       "      <td>0</td>\n",
       "      <td>0</td>\n",
       "      <td>185</td>\n",
       "      <td>31032</td>\n",
       "      <td>1</td>\n",
       "    </tr>\n",
       "    <tr>\n",
       "      <th>1040</th>\n",
       "      <td>0</td>\n",
       "      <td>0</td>\n",
       "      <td>29</td>\n",
       "      <td>21289</td>\n",
       "      <td>1</td>\n",
       "    </tr>\n",
       "    <tr>\n",
       "      <th>1094</th>\n",
       "      <td>0</td>\n",
       "      <td>0</td>\n",
       "      <td>35</td>\n",
       "      <td>17322</td>\n",
       "      <td>0</td>\n",
       "    </tr>\n",
       "    <tr>\n",
       "      <th>1103</th>\n",
       "      <td>0</td>\n",
       "      <td>0</td>\n",
       "      <td>201</td>\n",
       "      <td>27825</td>\n",
       "      <td>1</td>\n",
       "    </tr>\n",
       "    <tr>\n",
       "      <th>1238</th>\n",
       "      <td>0</td>\n",
       "      <td>0</td>\n",
       "      <td>30</td>\n",
       "      <td>20016</td>\n",
       "      <td>1</td>\n",
       "    </tr>\n",
       "    <tr>\n",
       "      <th>1248</th>\n",
       "      <td>0</td>\n",
       "      <td>0</td>\n",
       "      <td>20</td>\n",
       "      <td>18418</td>\n",
       "      <td>1</td>\n",
       "    </tr>\n",
       "    <tr>\n",
       "      <th>1351</th>\n",
       "      <td>0</td>\n",
       "      <td>0</td>\n",
       "      <td>9</td>\n",
       "      <td>2923</td>\n",
       "      <td>1</td>\n",
       "    </tr>\n",
       "    <tr>\n",
       "      <th>1448</th>\n",
       "      <td>0</td>\n",
       "      <td>0</td>\n",
       "      <td>7</td>\n",
       "      <td>39419</td>\n",
       "      <td>1</td>\n",
       "    </tr>\n",
       "    <tr>\n",
       "      <th>1533</th>\n",
       "      <td>0</td>\n",
       "      <td>0</td>\n",
       "      <td>188</td>\n",
       "      <td>33189</td>\n",
       "      <td>1</td>\n",
       "    </tr>\n",
       "    <tr>\n",
       "      <th>1598</th>\n",
       "      <td>0</td>\n",
       "      <td>0</td>\n",
       "      <td>28</td>\n",
       "      <td>16573</td>\n",
       "      <td>1</td>\n",
       "    </tr>\n",
       "    <tr>\n",
       "      <th>1649</th>\n",
       "      <td>0</td>\n",
       "      <td>0</td>\n",
       "      <td>211</td>\n",
       "      <td>27695</td>\n",
       "      <td>1</td>\n",
       "    </tr>\n",
       "    <tr>\n",
       "      <th>1669</th>\n",
       "      <td>0</td>\n",
       "      <td>0</td>\n",
       "      <td>19</td>\n",
       "      <td>17289</td>\n",
       "      <td>1</td>\n",
       "    </tr>\n",
       "    <tr>\n",
       "      <th>1743</th>\n",
       "      <td>0</td>\n",
       "      <td>0</td>\n",
       "      <td>20</td>\n",
       "      <td>13688</td>\n",
       "      <td>1</td>\n",
       "    </tr>\n",
       "    <tr>\n",
       "      <th>1755</th>\n",
       "      <td>0</td>\n",
       "      <td>0</td>\n",
       "      <td>48</td>\n",
       "      <td>12442</td>\n",
       "      <td>0</td>\n",
       "    </tr>\n",
       "    <tr>\n",
       "      <th>1841</th>\n",
       "      <td>0</td>\n",
       "      <td>0</td>\n",
       "      <td>30</td>\n",
       "      <td>10703</td>\n",
       "      <td>1</td>\n",
       "    </tr>\n",
       "    <tr>\n",
       "      <th>1876</th>\n",
       "      <td>0</td>\n",
       "      <td>0</td>\n",
       "      <td>173</td>\n",
       "      <td>27431</td>\n",
       "      <td>1</td>\n",
       "    </tr>\n",
       "    <tr>\n",
       "      <th>1880</th>\n",
       "      <td>0</td>\n",
       "      <td>0</td>\n",
       "      <td>44</td>\n",
       "      <td>15644</td>\n",
       "      <td>1</td>\n",
       "    </tr>\n",
       "    <tr>\n",
       "      <th>1921</th>\n",
       "      <td>0</td>\n",
       "      <td>0</td>\n",
       "      <td>14</td>\n",
       "      <td>21673</td>\n",
       "      <td>1</td>\n",
       "    </tr>\n",
       "    <tr>\n",
       "      <th>2155</th>\n",
       "      <td>0</td>\n",
       "      <td>0</td>\n",
       "      <td>24</td>\n",
       "      <td>21626</td>\n",
       "      <td>1</td>\n",
       "    </tr>\n",
       "    <tr>\n",
       "      <th>2207</th>\n",
       "      <td>0</td>\n",
       "      <td>0</td>\n",
       "      <td>32</td>\n",
       "      <td>16597</td>\n",
       "      <td>1</td>\n",
       "    </tr>\n",
       "    <tr>\n",
       "      <th>2256</th>\n",
       "      <td>0</td>\n",
       "      <td>0</td>\n",
       "      <td>42</td>\n",
       "      <td>13280</td>\n",
       "      <td>1</td>\n",
       "    </tr>\n",
       "    <tr>\n",
       "      <th>2291</th>\n",
       "      <td>0</td>\n",
       "      <td>0</td>\n",
       "      <td>28</td>\n",
       "      <td>11864</td>\n",
       "      <td>1</td>\n",
       "    </tr>\n",
       "    <tr>\n",
       "      <th>2682</th>\n",
       "      <td>0</td>\n",
       "      <td>0</td>\n",
       "      <td>23</td>\n",
       "      <td>21934</td>\n",
       "      <td>1</td>\n",
       "    </tr>\n",
       "    <tr>\n",
       "      <th>2879</th>\n",
       "      <td>0</td>\n",
       "      <td>0</td>\n",
       "      <td>6</td>\n",
       "      <td>22428</td>\n",
       "      <td>1</td>\n",
       "    </tr>\n",
       "    <tr>\n",
       "      <th>2943</th>\n",
       "      <td>0</td>\n",
       "      <td>0</td>\n",
       "      <td>17</td>\n",
       "      <td>12905</td>\n",
       "      <td>1</td>\n",
       "    </tr>\n",
       "    <tr>\n",
       "      <th>2958</th>\n",
       "      <td>0</td>\n",
       "      <td>0</td>\n",
       "      <td>20</td>\n",
       "      <td>17491</td>\n",
       "      <td>0</td>\n",
       "    </tr>\n",
       "    <tr>\n",
       "      <th>2962</th>\n",
       "      <td>0</td>\n",
       "      <td>0</td>\n",
       "      <td>17</td>\n",
       "      <td>11050</td>\n",
       "      <td>0</td>\n",
       "    </tr>\n",
       "    <tr>\n",
       "      <th>2973</th>\n",
       "      <td>0</td>\n",
       "      <td>0</td>\n",
       "      <td>31</td>\n",
       "      <td>12633</td>\n",
       "      <td>1</td>\n",
       "    </tr>\n",
       "    <tr>\n",
       "      <th>3074</th>\n",
       "      <td>1</td>\n",
       "      <td>0</td>\n",
       "      <td>31</td>\n",
       "      <td>10025</td>\n",
       "      <td>1</td>\n",
       "    </tr>\n",
       "    <tr>\n",
       "      <th>3107</th>\n",
       "      <td>0</td>\n",
       "      <td>0</td>\n",
       "      <td>0</td>\n",
       "      <td>530</td>\n",
       "      <td>1</td>\n",
       "    </tr>\n",
       "    <tr>\n",
       "      <th>3200</th>\n",
       "      <td>0</td>\n",
       "      <td>0</td>\n",
       "      <td>55</td>\n",
       "      <td>10858</td>\n",
       "      <td>1</td>\n",
       "    </tr>\n",
       "  </tbody>\n",
       "</table>\n",
       "</div>"
      ],
      "text/plain": [
       "      calls  minutes  messages  mb_used  is_ultra\n",
       "54        0        0        33    14010         1\n",
       "247       0        0        35    16444         1\n",
       "264       0        0        21    19559         0\n",
       "351       0        0         8    35525         1\n",
       "390       0        0        25    19088         1\n",
       "484       0        0       191    32448         1\n",
       "551       0        0        24    18701         1\n",
       "647       0        0        30    10236         1\n",
       "769       0        0        32    17206         0\n",
       "884       0        0       180    32045         1\n",
       "951       0        0       185    31032         1\n",
       "1040      0        0        29    21289         1\n",
       "1094      0        0        35    17322         0\n",
       "1103      0        0       201    27825         1\n",
       "1238      0        0        30    20016         1\n",
       "1248      0        0        20    18418         1\n",
       "1351      0        0         9     2923         1\n",
       "1448      0        0         7    39419         1\n",
       "1533      0        0       188    33189         1\n",
       "1598      0        0        28    16573         1\n",
       "1649      0        0       211    27695         1\n",
       "1669      0        0        19    17289         1\n",
       "1743      0        0        20    13688         1\n",
       "1755      0        0        48    12442         0\n",
       "1841      0        0        30    10703         1\n",
       "1876      0        0       173    27431         1\n",
       "1880      0        0        44    15644         1\n",
       "1921      0        0        14    21673         1\n",
       "2155      0        0        24    21626         1\n",
       "2207      0        0        32    16597         1\n",
       "2256      0        0        42    13280         1\n",
       "2291      0        0        28    11864         1\n",
       "2682      0        0        23    21934         1\n",
       "2879      0        0         6    22428         1\n",
       "2943      0        0        17    12905         1\n",
       "2958      0        0        20    17491         0\n",
       "2962      0        0        17    11050         0\n",
       "2973      0        0        31    12633         1\n",
       "3074      1        0        31    10025         1\n",
       "3107      0        0         0      530         1\n",
       "3200      0        0        55    10858         1"
      ]
     },
     "metadata": {},
     "output_type": "display_data"
    }
   ],
   "source": [
    "display(df[df['minutes']==0])  \n",
    "#df[df['mb_used']==0]['mb_used'].count()\n",
    "#df[df['calls']==0]['calls'].count()"
   ]
  },
  {
   "cell_type": "code",
   "execution_count": 5,
   "metadata": {},
   "outputs": [
    {
     "data": {
      "text/plain": [
       "<AxesSubplot:>"
      ]
     },
     "execution_count": 5,
     "metadata": {},
     "output_type": "execute_result"
    },
    {
     "data": {
      "image/png": "[encoded data removed]",
      "text/plain": [
       "<Figure size 432x288 with 1 Axes>"
      ]
     },
     "metadata": {
      "needs_background": "light"
     },
     "output_type": "display_data"
    }
   ],
   "source": [
    "df['is_ultra'].hist(bins=100) # расбалансировка"
   ]
  },
  {
   "cell_type": "markdown",
   "metadata": {},
   "source": [
    "### Вывод\n",
    "В данном пункте было сделано :\n",
    "- Считывание файла \n",
    "- Преобразования всех столбцов в целочисленный тип(т.к. значения секунд и байты не являються важными значениями (как мне кажется) так же колличество смс не может быть с плавающейточкой)\n",
    "- Было проанализировано, что Люди не используют звонки, но при этом используют интернет и используют ультра, но также есть данные где есть один звонок и 0 минкт строка 3074 (странно) и странная строка 3107\n",
    "Для обучения модели не понятно влияет ли эти 0 значения и можно ли их убрать, или использовать какойто фильтр, так как данные 0 значения могут сказаться на модели.\n"
   ]
  },
  {
   "cell_type": "markdown",
   "metadata": {},
   "source": [
    "## Разбейте данные на выборки"
   ]
  },
  {
   "cell_type": "code",
   "execution_count": 6,
   "metadata": {
    "scrolled": true
   },
   "outputs": [
    {
     "name": "stdout",
     "output_type": "stream",
     "text": [
      "(1807, 4)\n",
      "(603, 4)\n",
      "(804, 4)\n"
     ]
    }
   ],
   "source": [
    "# Деление датафрейма на  тренировочную, валидационную и тестовую выборку \n",
    "train_valid, test = train_test_split(df, test_size=0.25)\n",
    "train, valid = train_test_split(train_valid, test_size=0.25)\n",
    "\n",
    "features_train = train.drop(['is_ultra'], axis=1)\n",
    "target_train = train['is_ultra']\n",
    "\n",
    "features_valid = valid.drop(['is_ultra'], axis=1)\n",
    "target_valid = valid['is_ultra']\n",
    "\n",
    "features_test = test.drop(['is_ultra'], axis=1)\n",
    "target_test = test['is_ultra']\n",
    "\n",
    "print(features_train.shape)\n",
    "print(features_valid.shape)\n",
    "print(features_test.shape)\n"
   ]
  },
  {
   "cell_type": "markdown",
   "metadata": {},
   "source": [
    "## Исследуйте модели"
   ]
  },
  {
   "cell_type": "markdown",
   "metadata": {},
   "source": [
    "### Модель решающее дерево"
   ]
  },
  {
   "cell_type": "code",
   "execution_count": 7,
   "metadata": {},
   "outputs": [
    {
     "name": "stdout",
     "output_type": "stream",
     "text": [
      "Лучшие значения по решающему дереву\n",
      "Процент правильных ответов 81.426% , при глубине дерева  = 6\n",
      "CPU times: user 56.3 ms, sys: 4.11 ms, total: 60.4 ms\n",
      "Wall time: 65.3 ms\n"
     ]
    },
    {
     "data": {
      "text/plain": [
       "<function matplotlib.pyplot.show(close=None, block=None)>"
      ]
     },
     "execution_count": 7,
     "metadata": {},
     "output_type": "execute_result"
    },
    {
     "data": {
      "image/png": "[encoded data removed]",
      "text/plain": [
       "<Figure size 432x288 with 1 Axes>"
      ]
     },
     "metadata": {
      "needs_background": "light"
     },
     "output_type": "display_data"
    }
   ],
   "source": [
    "%%time\n",
    "# Задаються нулевые значения для лучшего значения метрики accuracy и глубины дерева\n",
    "best_accuracy_tree, dept_best =0,0\n",
    "accur,dep = [],[]\n",
    "\n",
    "for depth in range(2, 10):\n",
    "    # определятся вид модели\n",
    "    model_tree = DecisionTreeClassifier(random_state=12345, max_depth=depth)\n",
    "    \n",
    "    # обучение модели\n",
    "    model_tree.fit(features_train, target_train)\n",
    "    #tree.plot_tree(model_tree)    \n",
    "    # проверка на валид. выборке\n",
    "    predictions_tree = model_tree.predict(features_valid)\n",
    "    \n",
    "    # Расчёт accuracy\n",
    "    accuracy_tree = accuracy_score(target_valid, predictions_tree)\n",
    "    accur.append(accuracy_tree)\n",
    "    dep.append(depth)\n",
    "    # Нахождение лучшей модели и запоминания глубины дерева \n",
    "    if accuracy_tree > best_accuracy_tree:\n",
    "        best_model_tree = model_tree \n",
    "        best_accuracy_tree = accuracy_tree\n",
    "        dept_best = depth\n",
    "        \n",
    "print('Лучшие значения по решающему дереву')    \n",
    "print(f'Процент правильных ответов {round(best_accuracy_tree *100,3)}% , при глубине дерева  = {dept_best}')\n",
    "\n",
    "plt.plot(dep,accur)\n",
    "plt.xlabel('Глубина дерева')\n",
    "plt.ylabel('значение accuracy')\n",
    "plt.show"
   ]
  },
  {
   "cell_type": "markdown",
   "metadata": {},
   "source": [
    "### Модель cлучайный лес"
   ]
  },
  {
   "cell_type": "code",
   "execution_count": 8,
   "metadata": {},
   "outputs": [
    {
     "name": "stdout",
     "output_type": "stream",
     "text": [
      "Лучшие значения по случайному лесу\n",
      "Процент правильных ответов 82.09%, при глубине дерева = 5,колличество деревьев = 7\n",
      "CPU times: user 965 ms, sys: 12 ms, total: 976 ms\n",
      "Wall time: 984 ms\n"
     ]
    }
   ],
   "source": [
    "%%time\n",
    "# Задаються нулевые значения для лучшего значения метрики accuracy, глубины дерева и колличества деревьев\n",
    "best_accuracy_tree, dept_best, best_est =0,0,0\n",
    "\n",
    "for depth in range(2, 10):\n",
    "    for est in range(2, 10):\n",
    "        # определятся вид модели\n",
    "        model_forest = RandomForestClassifier(random_state=12345, max_depth=depth, n_estimators=est)\n",
    "        \n",
    "        # обучение модели\n",
    "        model_forest.fit(features_train, target_train)\n",
    "        \n",
    "        # проверка на валид. выборке\n",
    "        predictions_forest = model_forest.predict(features_valid)\n",
    "        \n",
    "        # Расчёт accuracy\n",
    "        accuracy_forest = accuracy_score(target_valid, predictions_forest)\n",
    "        \n",
    "        # Нахождение лучшей модели и запоминания глубины дерева и колличества деревьев\n",
    "        if accuracy_forest > best_accuracy_tree:\n",
    "            best_model_forest = model_forest # сохраните наилучшую модель\n",
    "            best_accuracy_tree = accuracy_forest\n",
    "            dept_best = depth\n",
    "            best_est = est\n",
    "print('Лучшие значения по случайному лесу')             \n",
    "print(f'Процент правильных ответов {round(best_accuracy_tree *100,3)}%, при глубине дерева = {dept_best},колличество деревьев = {best_est}')  "
   ]
  },
  {
   "cell_type": "markdown",
   "metadata": {},
   "source": [
    "### Модель логистическая регрессия"
   ]
  },
  {
   "cell_type": "code",
   "execution_count": 9,
   "metadata": {},
   "outputs": [
    {
     "name": "stdout",
     "output_type": "stream",
     "text": [
      "Лучшие значения по логической регресии\n",
      "Процент правильных ответов 70.481%\n",
      "CPU times: user 12.6 ms, sys: 131 µs, total: 12.7 ms\n",
      "Wall time: 11.6 ms\n"
     ]
    }
   ],
   "source": [
    "%%time\n",
    "# определятся вид модели\n",
    "model_lr = LogisticRegression(random_state=12345, solver='lbfgs')\n",
    "\n",
    "# обучение модели\n",
    "model_lr.fit(features_train, target_train)\n",
    "\n",
    "# проверка на валид. выборке\n",
    "predictions_lr = model_lr.predict(features_valid)\n",
    "\n",
    "accuracy_lr = accuracy_score(target_valid, predictions_lr)\n",
    "print('Лучшие значения по логической регресии')\n",
    "print(f'Процент правильных ответов {round(accuracy_lr *100,3)}%')"
   ]
  },
  {
   "cell_type": "markdown",
   "metadata": {},
   "source": [
    "### Вывод\n",
    "В данном пункте было сделаано :\n",
    "- Использовано три модели машинного обучения решающее дерево, случайный лес и логическая регрессия   \n",
    "Значения полученные при использовании модеи : \n",
    "|Модель      |  Глубина |  Кол-во Деревьев |  Процент правильных ответов  |  Затраченное время   |\n",
    "| ---------  | -------- | -------------    | --------------------------   |--------     |\n",
    "| Решающее дерево      |  7    | 1     |  81.924     | 62.5 мс    |\n",
    "| Случайный лес        |  5    | 2     |  82.587      | 1.11 с     |\n",
    "| Логическая регрессия |  -    | -     |  75.29      | 53.6 мс     |\n",
    "\n",
    "Из таблицы видно то, что:\n",
    "- наибольшее вемя затрачивает модель случайный лес, но при этом процент правильных ответов \n",
    "- наименьшее время затрачивает логическая регресия при этом наихудший процент ответов у данной модели\n",
    "- Если выбирать оптимальное между правильностью ответов и временем являеться решающее дерево"
   ]
  },
  {
   "cell_type": "markdown",
   "metadata": {},
   "source": [
    "## Проверьте модель на тестовой выборке"
   ]
  },
  {
   "cell_type": "code",
   "execution_count": 10,
   "metadata": {
    "scrolled": true
   },
   "outputs": [
    {
     "name": "stdout",
     "output_type": "stream",
     "text": [
      "Обучение модели при сумме валидационной и тренирвочной выборке\n",
      "Процент правильных ответов на тестовой выборке для случайного леса 80.846%\n",
      "\n",
      "При использовании только тренировачной выборке\n",
      "Процент правильных ответов на тестовой выборке для случайного леса 80.721%\n",
      "\n",
      "Метрики модели МО\n",
      "              precision    recall  f1-score   support\n",
      "\n",
      "           0       0.81      0.95      0.87       566\n",
      "           1       0.79      0.47      0.59       238\n",
      "\n",
      "    accuracy                           0.81       804\n",
      "   macro avg       0.80      0.71      0.73       804\n",
      "weighted avg       0.81      0.81      0.79       804\n",
      "\n"
     ]
    }
   ],
   "source": [
    "# Используеться наилучшая модель\n",
    "\n",
    "train =  pd.concat([features_train,features_valid])\n",
    "target = pd.concat([target_train,target_valid])\n",
    "\n",
    "model_forest = RandomForestClassifier(random_state=12345, max_depth=dept_best, n_estimators=best_est)\n",
    "        \n",
    "# обучение модели\n",
    "model_forest.fit(train, target)\n",
    "        \n",
    "# проверка на валид. выборке\n",
    "predictions_forest_summa = model_forest.predict(features_test)\n",
    "\n",
    "accuracy_forest_test_summa = accuracy_score(target_test, predictions_forest_summa)\n",
    "print('Обучение модели при сумме валидационной и тренирвочной выборке')\n",
    "print(f'Процент правильных ответов на тестовой выборке для случайного леса {round(accuracy_forest_test_summa*100,3)}%')\n",
    "print('')\n",
    "\n",
    "predictions_forest_test = best_model_forest.predict(features_test)\n",
    "accuracy_forest_test = accuracy_score(target_test, predictions_forest_test)\n",
    "print('При использовании только тренировачной выборке')\n",
    "print(f'Процент правильных ответов на тестовой выборке для случайного леса {round(accuracy_forest_test*100,3)}%')\n",
    "print('')\n",
    "print('Метрики модели МО')\n",
    "print(classification_report(target_test, predictions_forest_test))\n",
    "\n",
    "#predictions_tree_test = best_model_tree.predict(features_test)\n",
    "#accuracy_tree_test = accuracy_score(target_test, predictions_tree_test)\n",
    "#print(f'Процент правильных ответов на тестовой выборке для решающего дерева {round(accuracy_tree_test,3)}%')\n"
   ]
  },
  {
   "cell_type": "markdown",
   "metadata": {},
   "source": [
    "### Вывод\n",
    "Из проверки модели на тестовой выборке можно сказать что в техническое задание вписываеться как и случайный лес так и решающее дерево, но точнее будет модель случайного леса "
   ]
  },
  {
   "cell_type": "markdown",
   "metadata": {},
   "source": [
    "## (бонус) Проверьте модели на адекватность"
   ]
  },
  {
   "cell_type": "code",
   "execution_count": 11,
   "metadata": {},
   "outputs": [
    {
     "name": "stdout",
     "output_type": "stream",
     "text": [
      "Процент правильных ответов на случайном массиве 70.4%\n"
     ]
    }
   ],
   "source": [
    "dummy_clf = DummyClassifier(strategy=\"most_frequent\")\n",
    "dummy_clf.fit(features_valid, target_valid)\n",
    "random_answers = dummy_clf.predict(features_test)\n",
    "\n",
    "\n",
    "accuracy_random_test = round(accuracy_score(target_test, random_answers), 3)\n",
    "print(f'Процент правильных ответов на случайном массиве {round(accuracy_random_test*100,3)}%')"
   ]
  },
  {
   "cell_type": "markdown",
   "metadata": {},
   "source": [
    "### Вывод\n",
    "Обученная модель имеет больше правильных ответов, чем случайные предсказания (на 30 процентов )"
   ]
  },
  {
   "cell_type": "markdown",
   "metadata": {},
   "source": [
    "## Вывод по проекту\n",
    "В данном проекте были обученны: три вида модели машинного обучения (случайный лес, решающее дерево, логическая регресия)\n",
    "- Наилучший результат по валидационной выборке показывает модель случайный лес, имеющий процент правильных ответов 83.6 процента\n",
    "- по тестовой выборке случайный лес показывает значение 80.8 процента, тем самым подходит для заказчика для определения тарифа\n",
    "- также обученная модель дает больше правильных ответов по сравнению с случайным предсказанием на 30 процентов   "
   ]
  },
  {
   "cell_type": "markdown",
   "metadata": {},
   "source": [
    "## Чек-лист готовности проекта"
   ]
  },
  {
   "cell_type": "markdown",
   "metadata": {},
   "source": [
    "Поставьте 'x' в выполненных пунктах. Далее нажмите Shift+Enter."
   ]
  },
  {
   "cell_type": "markdown",
   "metadata": {},
   "source": [
    "- [x] Jupyter Notebook открыт\n",
    "- [x] Весь код исполняется без ошибок\n",
    "- [x] Ячейки с кодом расположены в порядке исполнения\n",
    "- [x] Выполнено задание 1: данные загружены и изучены\n",
    "- [x] Выполнено задание 2: данные разбиты на три выборки\n",
    "- [x] Выполнено задание 3: проведено исследование моделей\n",
    "    - [x] Рассмотрено больше одной модели\n",
    "    - [x] Рассмотрено хотя бы 3 значения гипепараметров для какой-нибудь модели\n",
    "    - [x] Написаны выводы по результатам исследования\n",
    "- [x] Выполнено задание 3: Проведено тестирование\n",
    "- [x] Удалось достичь accuracy не меньше 0.75\n"
   ]
  }
 ],
 "metadata": {
  "ExecuteTimeLog": [
   {
    "duration": 43,
    "start_time": "2022-10-14T12:47:00.647Z"
   },
   {
    "duration": 368,
    "start_time": "2022-10-14T12:47:02.927Z"
   },
   {
    "duration": 133,
    "start_time": "2022-10-14T12:47:05.179Z"
   },
   {
    "duration": 46,
    "start_time": "2022-10-14T12:49:04.856Z"
   },
   {
    "duration": 27,
    "start_time": "2022-10-14T12:51:40.184Z"
   },
   {
    "duration": 3,
    "start_time": "2022-10-14T12:51:44.244Z"
   },
   {
    "duration": 1106,
    "start_time": "2022-10-14T12:54:02.632Z"
   },
   {
    "duration": 8,
    "start_time": "2022-10-14T12:54:13.228Z"
   },
   {
    "duration": 76,
    "start_time": "2022-10-14T12:54:32.923Z"
   },
   {
    "duration": 6,
    "start_time": "2022-10-14T12:54:39.828Z"
   },
   {
    "duration": 3,
    "start_time": "2022-10-14T12:54:54.896Z"
   },
   {
    "duration": 7,
    "start_time": "2022-10-14T12:55:01.908Z"
   },
   {
    "duration": 606,
    "start_time": "2022-10-14T13:01:23.228Z"
   },
   {
    "duration": 44,
    "start_time": "2022-10-14T13:01:23.836Z"
   },
   {
    "duration": 7,
    "start_time": "2022-10-14T13:01:24.842Z"
   },
   {
    "duration": 10,
    "start_time": "2022-10-14T13:01:30.690Z"
   },
   {
    "duration": 41,
    "start_time": "2022-10-14T13:07:53.499Z"
   },
   {
    "duration": 423,
    "start_time": "2022-10-14T13:07:59.106Z"
   },
   {
    "duration": 43,
    "start_time": "2022-10-14T13:07:59.531Z"
   },
   {
    "duration": 7,
    "start_time": "2022-10-14T13:08:00.195Z"
   },
   {
    "duration": 9,
    "start_time": "2022-10-14T13:08:00.914Z"
   },
   {
    "duration": 130,
    "start_time": "2022-10-14T13:08:02.061Z"
   },
   {
    "duration": 140,
    "start_time": "2022-10-14T13:08:20.699Z"
   },
   {
    "duration": 1259,
    "start_time": "2022-10-14T13:09:51.493Z"
   },
   {
    "duration": 45,
    "start_time": "2022-10-14T13:09:52.754Z"
   },
   {
    "duration": 7,
    "start_time": "2022-10-14T13:09:52.801Z"
   },
   {
    "duration": 32,
    "start_time": "2022-10-14T13:09:52.809Z"
   },
   {
    "duration": 227,
    "start_time": "2022-10-14T13:09:52.843Z"
   },
   {
    "duration": 0,
    "start_time": "2022-10-14T13:09:53.072Z"
   },
   {
    "duration": 143,
    "start_time": "2022-10-14T13:10:03.532Z"
   },
   {
    "duration": 47616,
    "start_time": "2022-10-14T13:10:04.315Z"
   },
   {
    "duration": 138,
    "start_time": "2022-10-14T13:10:51.933Z"
   },
   {
    "duration": 134,
    "start_time": "2022-10-14T13:13:39.698Z"
   },
   {
    "duration": 10,
    "start_time": "2022-10-14T13:13:54.838Z"
   },
   {
    "duration": 15,
    "start_time": "2022-10-14T13:14:02.670Z"
   },
   {
    "duration": 130,
    "start_time": "2022-10-14T13:14:32.655Z"
   },
   {
    "duration": 1235,
    "start_time": "2022-10-14T13:16:44.432Z"
   },
   {
    "duration": 46,
    "start_time": "2022-10-14T13:16:45.669Z"
   },
   {
    "duration": 10,
    "start_time": "2022-10-14T13:16:45.717Z"
   },
   {
    "duration": 11,
    "start_time": "2022-10-14T13:16:45.729Z"
   },
   {
    "duration": 156,
    "start_time": "2022-10-14T13:16:45.742Z"
   },
   {
    "duration": 47688,
    "start_time": "2022-10-14T13:16:45.900Z"
   },
   {
    "duration": 10641,
    "start_time": "2022-10-14T13:18:01.963Z"
   },
   {
    "duration": 32,
    "start_time": "2022-10-14T13:18:52.067Z"
   },
   {
    "duration": 11,
    "start_time": "2022-10-14T13:19:07.915Z"
   },
   {
    "duration": 12,
    "start_time": "2022-10-14T13:19:28.287Z"
   },
   {
    "duration": 13,
    "start_time": "2022-10-14T13:19:50.351Z"
   },
   {
    "duration": 101,
    "start_time": "2022-10-14T13:20:14.963Z"
   },
   {
    "duration": 6,
    "start_time": "2022-10-14T13:20:33.863Z"
   },
   {
    "duration": 5,
    "start_time": "2022-10-14T13:20:50.655Z"
   },
   {
    "duration": 5,
    "start_time": "2022-10-14T13:20:57.915Z"
   },
   {
    "duration": 10328,
    "start_time": "2022-10-14T13:23:46.759Z"
   },
   {
    "duration": 141,
    "start_time": "2022-10-14T13:25:00.435Z"
   },
   {
    "duration": 52,
    "start_time": "2022-10-14T13:25:06.979Z"
   },
   {
    "duration": 1256,
    "start_time": "2022-10-14T13:25:54.299Z"
   },
   {
    "duration": 15,
    "start_time": "2022-10-14T13:26:00.591Z"
   },
   {
    "duration": 11,
    "start_time": "2022-10-14T13:26:27.445Z"
   },
   {
    "duration": 94,
    "start_time": "2022-10-14T13:27:01.851Z"
   },
   {
    "duration": 5,
    "start_time": "2022-10-14T13:27:05.456Z"
   },
   {
    "duration": 11,
    "start_time": "2022-10-14T13:27:22.545Z"
   },
   {
    "duration": 10,
    "start_time": "2022-10-14T13:27:50.056Z"
   },
   {
    "duration": 124,
    "start_time": "2022-10-14T13:28:03.845Z"
   },
   {
    "duration": 10,
    "start_time": "2022-10-14T13:28:18.595Z"
   },
   {
    "duration": 10,
    "start_time": "2022-10-14T13:28:23.556Z"
   },
   {
    "duration": 12,
    "start_time": "2022-10-14T13:30:45.848Z"
   },
   {
    "duration": 6,
    "start_time": "2022-10-14T13:32:15.332Z"
   },
   {
    "duration": 11,
    "start_time": "2022-10-14T13:32:33.357Z"
   },
   {
    "duration": 10,
    "start_time": "2022-10-14T13:32:42.913Z"
   },
   {
    "duration": 5,
    "start_time": "2022-10-14T13:33:40.861Z"
   },
   {
    "duration": 7,
    "start_time": "2022-10-14T13:34:07.045Z"
   },
   {
    "duration": 78,
    "start_time": "2022-10-14T13:35:17.900Z"
   },
   {
    "duration": 8,
    "start_time": "2022-10-14T13:35:23.906Z"
   },
   {
    "duration": 6,
    "start_time": "2022-10-14T13:35:34.806Z"
   },
   {
    "duration": 10,
    "start_time": "2022-10-14T13:35:54.014Z"
   },
   {
    "duration": 8,
    "start_time": "2022-10-14T13:36:00.710Z"
   },
   {
    "duration": 21,
    "start_time": "2022-10-14T13:36:06.882Z"
   },
   {
    "duration": 13,
    "start_time": "2022-10-14T13:36:52.832Z"
   },
   {
    "duration": 1039,
    "start_time": "2022-10-14T13:37:10.632Z"
   },
   {
    "duration": 51,
    "start_time": "2022-10-14T13:37:11.673Z"
   },
   {
    "duration": 8,
    "start_time": "2022-10-14T13:37:11.726Z"
   },
   {
    "duration": 17,
    "start_time": "2022-10-14T13:37:11.736Z"
   },
   {
    "duration": 11,
    "start_time": "2022-10-14T13:37:11.755Z"
   },
   {
    "duration": 150,
    "start_time": "2022-10-14T13:37:11.767Z"
   },
   {
    "duration": 10601,
    "start_time": "2022-10-14T13:37:11.919Z"
   },
   {
    "duration": 18,
    "start_time": "2022-10-14T13:37:22.522Z"
   },
   {
    "duration": 10,
    "start_time": "2022-10-14T13:37:22.542Z"
   },
   {
    "duration": 31,
    "start_time": "2022-10-14T13:37:22.554Z"
   },
   {
    "duration": 10,
    "start_time": "2022-10-14T13:37:45.166Z"
   },
   {
    "duration": 140,
    "start_time": "2022-10-14T13:37:48.047Z"
   },
   {
    "duration": 10819,
    "start_time": "2022-10-14T13:37:49.075Z"
   },
   {
    "duration": 32,
    "start_time": "2022-10-14T13:37:59.896Z"
   },
   {
    "duration": 11,
    "start_time": "2022-10-14T13:37:59.929Z"
   },
   {
    "duration": 5,
    "start_time": "2022-10-14T13:37:59.942Z"
   },
   {
    "duration": 10909,
    "start_time": "2022-10-14T13:38:19.359Z"
   },
   {
    "duration": 10955,
    "start_time": "2022-10-14T13:38:40.194Z"
   },
   {
    "duration": 90,
    "start_time": "2022-10-14T13:43:01.939Z"
   },
   {
    "duration": 4,
    "start_time": "2022-10-14T13:43:04.655Z"
   },
   {
    "duration": 42,
    "start_time": "2022-10-14T13:43:06.079Z"
   },
   {
    "duration": 26,
    "start_time": "2022-10-14T13:44:31.683Z"
   },
   {
    "duration": 16,
    "start_time": "2022-10-14T13:45:27.960Z"
   },
   {
    "duration": 27,
    "start_time": "2022-10-14T13:45:37.004Z"
   },
   {
    "duration": 27,
    "start_time": "2022-10-14T13:45:49.344Z"
   },
   {
    "duration": 11,
    "start_time": "2022-10-14T13:45:53.680Z"
   },
   {
    "duration": 12,
    "start_time": "2022-10-14T13:45:59.852Z"
   },
   {
    "duration": 160,
    "start_time": "2022-10-14T13:46:01.684Z"
   },
   {
    "duration": 10910,
    "start_time": "2022-10-14T13:46:08.196Z"
   },
   {
    "duration": 21,
    "start_time": "2022-10-14T13:46:19.108Z"
   },
   {
    "duration": 11,
    "start_time": "2022-10-14T13:46:19.131Z"
   },
   {
    "duration": 6,
    "start_time": "2022-10-14T13:46:19.144Z"
   },
   {
    "duration": 10,
    "start_time": "2022-10-14T13:49:07.414Z"
   },
   {
    "duration": 12,
    "start_time": "2022-10-14T13:49:07.426Z"
   },
   {
    "duration": 152,
    "start_time": "2022-10-14T13:49:07.440Z"
   },
   {
    "duration": 11053,
    "start_time": "2022-10-14T13:49:07.594Z"
   },
   {
    "duration": 19,
    "start_time": "2022-10-14T13:49:18.648Z"
   },
   {
    "duration": 17,
    "start_time": "2022-10-14T13:49:18.668Z"
   },
   {
    "duration": 4,
    "start_time": "2022-10-14T13:49:18.687Z"
   },
   {
    "duration": 47,
    "start_time": "2022-10-14T13:56:13.893Z"
   },
   {
    "duration": 1033,
    "start_time": "2022-10-14T14:04:03.638Z"
   },
   {
    "duration": 54,
    "start_time": "2022-10-14T14:04:04.673Z"
   },
   {
    "duration": 28,
    "start_time": "2022-10-14T14:04:04.729Z"
   },
   {
    "duration": 28,
    "start_time": "2022-10-14T14:04:04.758Z"
   },
   {
    "duration": 9,
    "start_time": "2022-10-14T14:04:04.788Z"
   },
   {
    "duration": 165,
    "start_time": "2022-10-14T14:04:04.799Z"
   },
   {
    "duration": 12289,
    "start_time": "2022-10-14T14:04:04.966Z"
   },
   {
    "duration": 52,
    "start_time": "2022-10-14T14:04:17.257Z"
   },
   {
    "duration": 11,
    "start_time": "2022-10-14T14:04:17.311Z"
   },
   {
    "duration": 11,
    "start_time": "2022-10-14T14:04:17.324Z"
   },
   {
    "duration": 9,
    "start_time": "2022-10-14T14:05:28.841Z"
   },
   {
    "duration": 144,
    "start_time": "2022-10-14T14:05:36.745Z"
   },
   {
    "duration": 10543,
    "start_time": "2022-10-14T14:11:39.020Z"
   },
   {
    "duration": 10260,
    "start_time": "2022-10-14T14:12:39.546Z"
   },
   {
    "duration": 194,
    "start_time": "2022-10-14T14:21:01.247Z"
   },
   {
    "duration": 127,
    "start_time": "2022-10-14T14:21:12.108Z"
   },
   {
    "duration": 74,
    "start_time": "2022-10-14T14:21:12.884Z"
   },
   {
    "duration": 3,
    "start_time": "2022-10-14T14:21:21.387Z"
   },
   {
    "duration": 53,
    "start_time": "2022-10-14T14:21:21.800Z"
   },
   {
    "duration": 27,
    "start_time": "2022-10-14T14:21:22.736Z"
   },
   {
    "duration": 11,
    "start_time": "2022-10-14T14:21:23.191Z"
   },
   {
    "duration": 9,
    "start_time": "2022-10-14T14:21:24.937Z"
   },
   {
    "duration": 142,
    "start_time": "2022-10-14T14:21:26.652Z"
   },
   {
    "duration": 85,
    "start_time": "2022-10-14T14:21:28.968Z"
   },
   {
    "duration": 10634,
    "start_time": "2022-10-14T14:21:33.607Z"
   },
   {
    "duration": 24,
    "start_time": "2022-10-14T14:22:12.976Z"
   },
   {
    "duration": 11,
    "start_time": "2022-10-14T14:22:19.408Z"
   },
   {
    "duration": 5,
    "start_time": "2022-10-14T14:22:20.615Z"
   },
   {
    "duration": 83,
    "start_time": "2022-10-14T14:23:28.156Z"
   },
   {
    "duration": 164,
    "start_time": "2022-10-14T14:23:41.096Z"
   },
   {
    "duration": 175,
    "start_time": "2022-10-14T14:23:58.091Z"
   },
   {
    "duration": 208,
    "start_time": "2022-10-14T14:24:07.056Z"
   },
   {
    "duration": 136,
    "start_time": "2022-10-14T14:24:22.708Z"
   },
   {
    "duration": 129,
    "start_time": "2022-10-14T14:25:13.573Z"
   },
   {
    "duration": 1030,
    "start_time": "2022-10-14T14:25:47.156Z"
   },
   {
    "duration": 1011,
    "start_time": "2022-10-14T14:28:27.936Z"
   },
   {
    "duration": 1141,
    "start_time": "2022-10-14T14:29:38.803Z"
   },
   {
    "duration": 31,
    "start_time": "2022-10-14T14:30:59.937Z"
   },
   {
    "duration": 24,
    "start_time": "2022-10-14T14:31:12.833Z"
   },
   {
    "duration": 51,
    "start_time": "2022-10-14T14:31:32.926Z"
   },
   {
    "duration": 1024,
    "start_time": "2022-10-14T14:31:35.536Z"
   },
   {
    "duration": 1055,
    "start_time": "2022-10-14T14:31:41.069Z"
   },
   {
    "duration": 1065,
    "start_time": "2022-10-14T14:31:47.605Z"
   },
   {
    "duration": 1015,
    "start_time": "2022-10-14T14:31:51.982Z"
   },
   {
    "duration": 23,
    "start_time": "2022-10-14T14:32:04.753Z"
   },
   {
    "duration": 1172,
    "start_time": "2022-10-14T14:33:38.334Z"
   },
   {
    "duration": 1252,
    "start_time": "2022-10-14T14:37:20.587Z"
   },
   {
    "duration": 60,
    "start_time": "2022-10-14T14:37:21.843Z"
   },
   {
    "duration": 28,
    "start_time": "2022-10-14T14:37:21.904Z"
   },
   {
    "duration": 13,
    "start_time": "2022-10-14T14:37:21.935Z"
   },
   {
    "duration": 44,
    "start_time": "2022-10-14T14:37:21.950Z"
   },
   {
    "duration": 110,
    "start_time": "2022-10-14T14:37:21.995Z"
   },
   {
    "duration": 263,
    "start_time": "2022-10-14T14:37:22.108Z"
   },
   {
    "duration": 40,
    "start_time": "2022-10-14T14:37:22.373Z"
   },
   {
    "duration": 32,
    "start_time": "2022-10-14T14:37:22.415Z"
   },
   {
    "duration": 0,
    "start_time": "2022-10-14T14:37:22.449Z"
   },
   {
    "duration": 1064,
    "start_time": "2022-10-14T14:39:27.481Z"
   },
   {
    "duration": 16,
    "start_time": "2022-10-14T14:39:44.475Z"
   },
   {
    "duration": 15,
    "start_time": "2022-10-14T14:40:02.306Z"
   },
   {
    "duration": 11,
    "start_time": "2022-10-14T14:40:07.519Z"
   },
   {
    "duration": 10,
    "start_time": "2022-10-14T15:06:36.240Z"
   },
   {
    "duration": 1017,
    "start_time": "2022-10-14T15:06:42.640Z"
   },
   {
    "duration": 53,
    "start_time": "2022-10-14T15:06:43.659Z"
   },
   {
    "duration": 9,
    "start_time": "2022-10-14T15:06:45.534Z"
   },
   {
    "duration": 10,
    "start_time": "2022-10-14T15:06:58.803Z"
   },
   {
    "duration": 10,
    "start_time": "2022-10-14T15:25:35.522Z"
   },
   {
    "duration": 17,
    "start_time": "2022-10-14T15:27:09.827Z"
   },
   {
    "duration": 55,
    "start_time": "2022-10-14T15:27:18.642Z"
   },
   {
    "duration": 10,
    "start_time": "2022-10-14T15:27:21.911Z"
   },
   {
    "duration": 12,
    "start_time": "2022-10-14T15:30:53.559Z"
   },
   {
    "duration": 10,
    "start_time": "2022-10-14T15:30:58.174Z"
   },
   {
    "duration": 7,
    "start_time": "2022-10-14T15:31:08.815Z"
   },
   {
    "duration": 10,
    "start_time": "2022-10-14T15:31:15.883Z"
   },
   {
    "duration": 5,
    "start_time": "2022-10-14T15:46:25.776Z"
   },
   {
    "duration": 8,
    "start_time": "2022-10-14T15:46:35.245Z"
   },
   {
    "duration": 1044,
    "start_time": "2022-10-14T15:46:39.839Z"
   },
   {
    "duration": 70,
    "start_time": "2022-10-14T15:46:40.885Z"
   },
   {
    "duration": 23,
    "start_time": "2022-10-14T15:46:40.956Z"
   },
   {
    "duration": 15,
    "start_time": "2022-10-14T15:46:40.981Z"
   },
   {
    "duration": 29,
    "start_time": "2022-10-14T15:46:40.998Z"
   },
   {
    "duration": 50,
    "start_time": "2022-10-14T15:46:41.028Z"
   },
   {
    "duration": 1021,
    "start_time": "2022-10-14T15:46:41.079Z"
   },
   {
    "duration": 36,
    "start_time": "2022-10-14T15:46:42.102Z"
   },
   {
    "duration": 12,
    "start_time": "2022-10-14T15:46:42.139Z"
   },
   {
    "duration": 123,
    "start_time": "2022-10-14T15:46:42.153Z"
   },
   {
    "duration": 10,
    "start_time": "2022-10-14T15:47:16.227Z"
   },
   {
    "duration": 10,
    "start_time": "2022-10-14T15:48:35.212Z"
   },
   {
    "duration": 5,
    "start_time": "2022-10-14T15:48:45.209Z"
   },
   {
    "duration": 9,
    "start_time": "2022-10-14T15:48:58.535Z"
   },
   {
    "duration": 1116,
    "start_time": "2022-10-14T15:49:45.402Z"
   },
   {
    "duration": 61,
    "start_time": "2022-10-14T15:49:46.521Z"
   },
   {
    "duration": 37,
    "start_time": "2022-10-14T15:49:46.584Z"
   },
   {
    "duration": 25,
    "start_time": "2022-10-14T15:49:46.623Z"
   },
   {
    "duration": 10,
    "start_time": "2022-10-14T15:49:46.650Z"
   },
   {
    "duration": 81,
    "start_time": "2022-10-14T15:49:46.661Z"
   },
   {
    "duration": 1111,
    "start_time": "2022-10-14T15:49:46.743Z"
   },
   {
    "duration": 58,
    "start_time": "2022-10-14T15:49:47.856Z"
   },
   {
    "duration": 20,
    "start_time": "2022-10-14T15:49:47.916Z"
   },
   {
    "duration": 10,
    "start_time": "2022-10-14T15:49:47.938Z"
   },
   {
    "duration": 5,
    "start_time": "2022-10-14T15:54:27.924Z"
   },
   {
    "duration": 5,
    "start_time": "2022-10-14T15:54:30.448Z"
   },
   {
    "duration": 4,
    "start_time": "2022-10-14T15:54:32.264Z"
   },
   {
    "duration": 10,
    "start_time": "2022-10-14T15:55:52.232Z"
   },
   {
    "duration": 7,
    "start_time": "2022-10-14T15:55:54.575Z"
   },
   {
    "duration": 1081,
    "start_time": "2022-10-14T15:56:10.176Z"
   },
   {
    "duration": 58,
    "start_time": "2022-10-14T15:56:11.259Z"
   },
   {
    "duration": 23,
    "start_time": "2022-10-14T15:56:11.318Z"
   },
   {
    "duration": 47,
    "start_time": "2022-10-14T15:56:11.342Z"
   },
   {
    "duration": 11,
    "start_time": "2022-10-14T15:56:11.396Z"
   },
   {
    "duration": 64,
    "start_time": "2022-10-14T15:56:11.408Z"
   },
   {
    "duration": 1057,
    "start_time": "2022-10-14T15:56:11.474Z"
   },
   {
    "duration": 56,
    "start_time": "2022-10-14T15:56:12.533Z"
   },
   {
    "duration": 13,
    "start_time": "2022-10-14T15:56:12.590Z"
   },
   {
    "duration": 8,
    "start_time": "2022-10-14T15:56:12.605Z"
   },
   {
    "duration": 1594,
    "start_time": "2022-10-14T16:03:43.680Z"
   },
   {
    "duration": 1569,
    "start_time": "2022-10-14T16:08:43.639Z"
   },
   {
    "duration": 68,
    "start_time": "2022-10-14T16:08:45.210Z"
   },
   {
    "duration": 25,
    "start_time": "2022-10-14T16:08:45.279Z"
   },
   {
    "duration": 12,
    "start_time": "2022-10-14T16:08:45.307Z"
   },
   {
    "duration": 9,
    "start_time": "2022-10-14T16:08:45.321Z"
   },
   {
    "duration": 61,
    "start_time": "2022-10-14T16:08:45.332Z"
   },
   {
    "duration": 1059,
    "start_time": "2022-10-14T16:08:45.408Z"
   },
   {
    "duration": 29,
    "start_time": "2022-10-14T16:08:46.468Z"
   },
   {
    "duration": 16,
    "start_time": "2022-10-14T16:08:46.498Z"
   },
   {
    "duration": 5,
    "start_time": "2022-10-14T16:08:46.516Z"
   },
   {
    "duration": 4,
    "start_time": "2022-10-15T05:12:16.457Z"
   },
   {
    "duration": 3,
    "start_time": "2022-10-15T05:12:21.773Z"
   },
   {
    "duration": 95,
    "start_time": "2022-10-15T05:12:29.516Z"
   },
   {
    "duration": 3,
    "start_time": "2022-10-15T05:12:53.937Z"
   },
   {
    "duration": 440,
    "start_time": "2022-10-15T05:12:57.921Z"
   },
   {
    "duration": 18,
    "start_time": "2022-10-15T05:14:29.101Z"
   },
   {
    "duration": 33,
    "start_time": "2022-10-15T05:14:56.120Z"
   },
   {
    "duration": 15,
    "start_time": "2022-10-15T05:18:06.182Z"
   },
   {
    "duration": 10,
    "start_time": "2022-10-15T05:18:42.762Z"
   },
   {
    "duration": 32,
    "start_time": "2022-10-15T05:18:58.022Z"
   },
   {
    "duration": 14,
    "start_time": "2022-10-15T05:19:22.434Z"
   },
   {
    "duration": 14,
    "start_time": "2022-10-15T05:19:30.214Z"
   },
   {
    "duration": 17,
    "start_time": "2022-10-15T05:19:38.426Z"
   },
   {
    "duration": 17,
    "start_time": "2022-10-15T05:19:48.746Z"
   },
   {
    "duration": 30,
    "start_time": "2022-10-15T05:19:58.658Z"
   },
   {
    "duration": 10,
    "start_time": "2022-10-15T05:20:13.146Z"
   },
   {
    "duration": 1106,
    "start_time": "2022-10-15T12:52:56.950Z"
   },
   {
    "duration": 51,
    "start_time": "2022-10-15T12:52:58.058Z"
   },
   {
    "duration": 23,
    "start_time": "2022-10-15T12:52:58.111Z"
   },
   {
    "duration": 13,
    "start_time": "2022-10-15T12:52:58.136Z"
   },
   {
    "duration": 465,
    "start_time": "2022-10-15T12:52:58.150Z"
   },
   {
    "duration": 9,
    "start_time": "2022-10-15T12:52:58.616Z"
   },
   {
    "duration": 82,
    "start_time": "2022-10-15T12:52:58.627Z"
   },
   {
    "duration": 963,
    "start_time": "2022-10-15T12:52:58.711Z"
   },
   {
    "duration": 38,
    "start_time": "2022-10-15T12:52:59.676Z"
   },
   {
    "duration": 13,
    "start_time": "2022-10-15T12:52:59.716Z"
   },
   {
    "duration": 28,
    "start_time": "2022-10-15T12:52:59.730Z"
   },
   {
    "duration": 10,
    "start_time": "2022-10-15T12:53:44.738Z"
   },
   {
    "duration": 11,
    "start_time": "2022-10-15T12:54:14.277Z"
   },
   {
    "duration": 5,
    "start_time": "2022-10-15T12:54:33.066Z"
   },
   {
    "duration": 5,
    "start_time": "2022-10-15T12:54:36.568Z"
   },
   {
    "duration": 5,
    "start_time": "2022-10-15T12:54:51.222Z"
   },
   {
    "duration": 105,
    "start_time": "2022-10-15T12:55:00.822Z"
   },
   {
    "duration": 5,
    "start_time": "2022-10-15T12:55:16.322Z"
   },
   {
    "duration": 1150,
    "start_time": "2022-10-15T12:55:46.059Z"
   },
   {
    "duration": 50,
    "start_time": "2022-10-15T12:55:47.211Z"
   },
   {
    "duration": 24,
    "start_time": "2022-10-15T12:55:47.263Z"
   },
   {
    "duration": 14,
    "start_time": "2022-10-15T12:55:47.289Z"
   },
   {
    "duration": 489,
    "start_time": "2022-10-15T12:55:47.305Z"
   },
   {
    "duration": 12,
    "start_time": "2022-10-15T12:55:47.796Z"
   },
   {
    "duration": 53,
    "start_time": "2022-10-15T12:55:47.810Z"
   },
   {
    "duration": 988,
    "start_time": "2022-10-15T12:55:47.865Z"
   },
   {
    "duration": 36,
    "start_time": "2022-10-15T12:55:48.855Z"
   },
   {
    "duration": 8,
    "start_time": "2022-10-15T12:55:48.894Z"
   },
   {
    "duration": 9,
    "start_time": "2022-10-15T12:55:48.904Z"
   },
   {
    "duration": 90,
    "start_time": "2022-10-16T06:29:17.192Z"
   },
   {
    "duration": 1082,
    "start_time": "2022-10-16T06:29:24.484Z"
   },
   {
    "duration": 113,
    "start_time": "2022-10-16T06:29:28.424Z"
   },
   {
    "duration": 997,
    "start_time": "2022-10-16T06:29:47.764Z"
   },
   {
    "duration": 59,
    "start_time": "2022-10-16T06:29:48.763Z"
   },
   {
    "duration": 22,
    "start_time": "2022-10-16T06:29:48.827Z"
   },
   {
    "duration": 9,
    "start_time": "2022-10-16T06:29:48.851Z"
   },
   {
    "duration": 613,
    "start_time": "2022-10-16T06:29:48.861Z"
   },
   {
    "duration": 9,
    "start_time": "2022-10-16T06:29:49.475Z"
   },
   {
    "duration": 7180,
    "start_time": "2022-10-16T06:29:49.486Z"
   },
   {
    "duration": 1119,
    "start_time": "2022-10-16T06:29:56.668Z"
   },
   {
    "duration": 35,
    "start_time": "2022-10-16T06:29:57.790Z"
   },
   {
    "duration": 8,
    "start_time": "2022-10-16T06:29:57.826Z"
   },
   {
    "duration": 18,
    "start_time": "2022-10-16T06:29:57.835Z"
   },
   {
    "duration": 454,
    "start_time": "2022-10-16T06:30:12.497Z"
   },
   {
    "duration": 225,
    "start_time": "2022-10-16T06:30:23.396Z"
   },
   {
    "duration": 7181,
    "start_time": "2022-10-16T06:30:53.800Z"
   },
   {
    "duration": 50,
    "start_time": "2022-10-16T06:34:27.429Z"
   },
   {
    "duration": 4,
    "start_time": "2022-10-16T06:34:53.296Z"
   },
   {
    "duration": 291,
    "start_time": "2022-10-16T06:35:28.964Z"
   },
   {
    "duration": 54,
    "start_time": "2022-10-16T06:35:43.665Z"
   },
   {
    "duration": 164,
    "start_time": "2022-10-16T06:54:09.696Z"
   },
   {
    "duration": 168,
    "start_time": "2022-10-16T06:54:42.580Z"
   },
   {
    "duration": 282,
    "start_time": "2022-10-16T06:55:07.479Z"
   },
   {
    "duration": 159,
    "start_time": "2022-10-16T06:55:13.791Z"
   },
   {
    "duration": 186,
    "start_time": "2022-10-16T06:55:23.400Z"
   },
   {
    "duration": 992,
    "start_time": "2022-10-16T07:33:42.884Z"
   },
   {
    "duration": 13,
    "start_time": "2022-10-16T07:34:32.360Z"
   },
   {
    "duration": 12,
    "start_time": "2022-10-16T07:35:05.761Z"
   },
   {
    "duration": 16,
    "start_time": "2022-10-16T07:35:34.300Z"
   },
   {
    "duration": 13,
    "start_time": "2022-10-16T07:35:54.444Z"
   },
   {
    "duration": 13,
    "start_time": "2022-10-16T07:36:22.020Z"
   },
   {
    "duration": 11,
    "start_time": "2022-10-16T07:40:39.089Z"
   },
   {
    "duration": 11,
    "start_time": "2022-10-16T07:40:46.961Z"
   },
   {
    "duration": 12,
    "start_time": "2022-10-16T07:40:55.737Z"
   },
   {
    "duration": 16,
    "start_time": "2022-10-16T07:41:05.689Z"
   },
   {
    "duration": 11,
    "start_time": "2022-10-16T07:41:29.725Z"
   },
   {
    "duration": 44,
    "start_time": "2022-10-16T07:41:59.481Z"
   },
   {
    "duration": 48,
    "start_time": "2022-10-16T07:42:36.937Z"
   },
   {
    "duration": 3,
    "start_time": "2022-10-16T07:52:17.438Z"
   },
   {
    "duration": 54,
    "start_time": "2022-10-16T07:53:38.670Z"
   },
   {
    "duration": 48,
    "start_time": "2022-10-16T07:54:37.778Z"
   },
   {
    "duration": 53,
    "start_time": "2022-10-16T07:55:14.718Z"
   },
   {
    "duration": 48,
    "start_time": "2022-10-16T07:55:50.334Z"
   },
   {
    "duration": 48,
    "start_time": "2022-10-16T07:56:02.814Z"
   },
   {
    "duration": 5,
    "start_time": "2022-10-16T07:57:59.367Z"
   },
   {
    "duration": 1343,
    "start_time": "2022-10-16T08:01:08.294Z"
   },
   {
    "duration": 34,
    "start_time": "2022-10-16T08:01:09.639Z"
   },
   {
    "duration": 21,
    "start_time": "2022-10-16T08:01:09.674Z"
   },
   {
    "duration": 15,
    "start_time": "2022-10-16T08:01:09.697Z"
   },
   {
    "duration": 216,
    "start_time": "2022-10-16T08:01:09.714Z"
   },
   {
    "duration": 9,
    "start_time": "2022-10-16T08:01:09.932Z"
   },
   {
    "duration": 182,
    "start_time": "2022-10-16T08:01:09.942Z"
   },
   {
    "duration": 988,
    "start_time": "2022-10-16T08:01:10.126Z"
   },
   {
    "duration": 15,
    "start_time": "2022-10-16T08:01:11.116Z"
   },
   {
    "duration": 38,
    "start_time": "2022-10-16T08:01:11.133Z"
   },
   {
    "duration": 5,
    "start_time": "2022-10-16T08:01:11.173Z"
   }
  ],
  "kernelspec": {
   "display_name": "Python 3 (ipykernel)",
   "language": "python",
   "name": "python3"
  },
  "language_info": {
   "codemirror_mode": {
    "name": "ipython",
    "version": 3
   },
   "file_extension": ".py",
   "mimetype": "text/x-python",
   "name": "python",
   "nbconvert_exporter": "python",
   "pygments_lexer": "ipython3",
   "version": "3.9.12"
  },
  "toc": {
   "base_numbering": 1,
   "nav_menu": {},
   "number_sections": true,
   "sideBar": true,
   "skip_h1_title": true,
   "title_cell": "Table of Contents",
   "title_sidebar": "Contents",
   "toc_cell": false,
   "toc_position": {},
   "toc_section_display": true,
   "toc_window_display": true
  }
 },
 "nbformat": 4,
 "nbformat_minor": 2
}
